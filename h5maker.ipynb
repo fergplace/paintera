{
 "cells": [
  {
   "cell_type": "code",
   "execution_count": 56,
   "id": "8ca4d097",
   "metadata": {},
   "outputs": [],
   "source": [
    "import numpy as np\n",
    "import os\n",
    "import h5py\n",
    "import glob\n",
    "from pathlib import Path\n",
    "import cv2\n",
    "import z5py"
   ]
  },
  {
   "cell_type": "code",
   "execution_count": 38,
   "id": "a39b382c",
   "metadata": {},
   "outputs": [],
   "source": [
    "frame_numbers = [] \n",
    "\n",
    "for file in  glob.glob(\"E:/all_video_frames_from_avi/*.png\") :\n",
    "\tframe_number = file.split(\"\\\\\")[-1].split(\".\")[0].split(\"frame\")[-1] \n",
    "\tframe_numbers.append(frame_number)\n",
    " \n",
    " \n",
    "frame_numbers_sorted = np.sort(np.array(frame_numbers, dtype=int))"
   ]
  },
  {
   "cell_type": "code",
   "execution_count": null,
   "id": "6d7947d0",
   "metadata": {},
   "outputs": [],
   "source": [
    "\n",
    "\n",
    "data_set_name = \"images\"\n",
    "h5file = 'small_moto.h5'\n",
    "with h5py.File(h5file,'w') as  h5f:\n",
    "\n",
    "\t#just for dims \n",
    "\tbase_file_name = \"E:/all_video_frames_from_avi\\\\frame\"\n",
    "\ttmp_img_name = base_file_name + str(frame_numbers_sorted[0]) + \".png\"\n",
    "\timg = cv2.imread(tmp_img_name, cv2.IMREAD_GRAYSCALE)\n",
    "\tIMG_WIDTH = img.shape[1] #int(img.shape[1]/10)\n",
    "\tIMG_HEIGHT = img.shape[0] #int(img.shape[0]/10)\n",
    "    \n",
    "    #make stack\n",
    "\timg_ds = h5f.create_dataset(data_set_name,\n",
    "        shape=(len(frame_numbers_sorted[:50]), IMG_HEIGHT, IMG_WIDTH), dtype=int)\n",
    "\n",
    "\t#loopa\n",
    "\tfor idx, frame_number in enumerate(frame_numbers_sorted[:50]):\n",
    "\t\ttmp_img_name = base_file_name + str(frame_number) + \".png\"\n",
    "\t\timg = cv2.imread(tmp_img_name, cv2.IMREAD_GRAYSCALE)\n",
    "\t\timg_resize = cv2.resize( img, (IMG_WIDTH, IMG_HEIGHT) )\n",
    "\t\timg_ds[idx] = img_resize.astype('int32')\n"
   ]
  },
  {
   "cell_type": "code",
   "execution_count": 63,
   "id": "8b674141",
   "metadata": {},
   "outputs": [
    {
     "name": "stdout",
     "output_type": "stream",
     "text": [
      "Conversion successful: 'small_moto.h5' -> 'output_n5_directory.n5/converted_data' (stored as a single chunk)\n"
     ]
    }
   ],
   "source": [
    "h5_file_path = 'small_moto.h5'\n",
    "h5_dataset_name = 'images'\n",
    "\n",
    "n5_output_path = 'output_n5_directory.n5'\n",
    "n5_dataset_name = 'converted_data'\n",
    "\n",
    "# chunk_size will be dynamically set to the full data shape to create a single chunk\n",
    "# chunk_size = (64, 64, 64) # This line is no longer needed as it will be dynamic\n",
    "\n",
    "compression_type = 'gzip'\n",
    "\n",
    "try:\n",
    "    with h5py.File(h5_file_path, 'r') as h5_f:\n",
    "        if h5_dataset_name not in h5_f:\n",
    "            raise ValueError(f\"Dataset '{h5_dataset_name}' not found in '{h5_file_path}'.\")\n",
    "        data = h5_f[h5_dataset_name][()]\n",
    "\n",
    "    # Set chunk_size to the full shape of the data to store it as a single chunk\n",
    "    chunk_size = data.shape\n",
    "\n",
    "    n5_f = z5py.File(n5_output_path, use_zarr_format=False)\n",
    "\n",
    "    n5_dataset = n5_f.create_dataset(\n",
    "        n5_dataset_name,\n",
    "        shape=data.shape,\n",
    "        chunks=chunk_size, # Now uses the full data shape\n",
    "        dtype=data.dtype,\n",
    "        compression=compression_type\n",
    "    )\n",
    "    n5_dataset[:] = data\n",
    "\n",
    "    print(f\"Conversion successful: '{h5_file_path}' -> '{n5_output_path}/{n5_dataset_name}' (stored as a single chunk)\")\n",
    "\n",
    "except Exception as e:\n",
    "    print(f\"An error occurred during conversion: {e}\")\n"
   ]
  }
 ],
 "metadata": {
  "kernelspec": {
   "display_name": "Python 3",
   "language": "python",
   "name": "python3"
  },
  "language_info": {
   "codemirror_mode": {
    "name": "ipython",
    "version": 3
   },
   "file_extension": ".py",
   "mimetype": "text/x-python",
   "name": "python",
   "nbconvert_exporter": "python",
   "pygments_lexer": "ipython3",
   "version": "3.13.3"
  }
 },
 "nbformat": 4,
 "nbformat_minor": 5
}
